{
 "cells": [
  {
   "cell_type": "markdown",
   "metadata": {},
   "source": [
    "# Summary: Linear regression in each module and comparison"
   ]
  },
  {
   "cell_type": "markdown",
   "metadata": {},
   "source": [
    "- **  Pandas**: OLS is deprecated. see statsmodels\n",
    "\n",
    "- **sklearn**\n",
    "> from sklearn.linear_model import LinearRegression\n",
    "\n",
    "- ***statsmodels**\n",
    "> from statsmodels.formula.api import ols\n",
    "\n",
    "- **numpy**\n",
    "> reg = np.polyfit(x, f(x), deg=1) <br>\n",
    "ry = np.polyval(reg, x)"
   ]
  },
  {
   "cell_type": "markdown",
   "metadata": {},
   "source": [
    "# Data import for OLS empirics"
   ]
  },
  {
   "cell_type": "code",
   "execution_count": 12,
   "metadata": {},
   "outputs": [],
   "source": [
    "import numpy as np \n",
    "import pandas as pd "
   ]
  },
  {
   "cell_type": "code",
   "execution_count": 13,
   "metadata": {},
   "outputs": [],
   "source": [
    "data = pd.read_csv(\"c:/python/data/pff/data_close.csv\")"
   ]
  },
  {
   "cell_type": "code",
   "execution_count": 16,
   "metadata": {},
   "outputs": [
    {
     "data": {
      "text/html": [
       "<div>\n",
       "<style scoped>\n",
       "    .dataframe tbody tr th:only-of-type {\n",
       "        vertical-align: middle;\n",
       "    }\n",
       "\n",
       "    .dataframe tbody tr th {\n",
       "        vertical-align: top;\n",
       "    }\n",
       "\n",
       "    .dataframe thead th {\n",
       "        text-align: right;\n",
       "    }\n",
       "</style>\n",
       "<table border=\"1\" class=\"dataframe\">\n",
       "  <thead>\n",
       "    <tr style=\"text-align: right;\">\n",
       "      <th></th>\n",
       "      <th>AAPL</th>\n",
       "      <th>AMZN</th>\n",
       "      <th>GDX</th>\n",
       "      <th>GLD</th>\n",
       "      <th>GS</th>\n",
       "      <th>INTC</th>\n",
       "      <th>JPY</th>\n",
       "      <th>MSFT</th>\n",
       "      <th>SPY</th>\n",
       "      <th>GSPC</th>\n",
       "      <th>VIX</th>\n",
       "      <th>XAU</th>\n",
       "    </tr>\n",
       "    <tr>\n",
       "      <th>Date</th>\n",
       "      <th></th>\n",
       "      <th></th>\n",
       "      <th></th>\n",
       "      <th></th>\n",
       "      <th></th>\n",
       "      <th></th>\n",
       "      <th></th>\n",
       "      <th></th>\n",
       "      <th></th>\n",
       "      <th></th>\n",
       "      <th></th>\n",
       "      <th></th>\n",
       "    </tr>\n",
       "  </thead>\n",
       "  <tbody>\n",
       "    <tr>\n",
       "      <th>2009-12-31</th>\n",
       "      <td>20.301006</td>\n",
       "      <td>134.520004</td>\n",
       "      <td>43.726997</td>\n",
       "      <td>107.309998</td>\n",
       "      <td>151.107407</td>\n",
       "      <td>15.540120</td>\n",
       "      <td>92.910004</td>\n",
       "      <td>24.544783</td>\n",
       "      <td>93.934990</td>\n",
       "      <td>1115.099976</td>\n",
       "      <td>21.680000</td>\n",
       "      <td>168.250000</td>\n",
       "    </tr>\n",
       "    <tr>\n",
       "      <th>2010-01-01</th>\n",
       "      <td>NaN</td>\n",
       "      <td>NaN</td>\n",
       "      <td>NaN</td>\n",
       "      <td>NaN</td>\n",
       "      <td>NaN</td>\n",
       "      <td>NaN</td>\n",
       "      <td>92.919998</td>\n",
       "      <td>NaN</td>\n",
       "      <td>NaN</td>\n",
       "      <td>NaN</td>\n",
       "      <td>NaN</td>\n",
       "      <td>NaN</td>\n",
       "    </tr>\n",
       "    <tr>\n",
       "      <th>2010-01-04</th>\n",
       "      <td>20.616993</td>\n",
       "      <td>133.899994</td>\n",
       "      <td>45.146393</td>\n",
       "      <td>109.800003</td>\n",
       "      <td>154.902115</td>\n",
       "      <td>15.905768</td>\n",
       "      <td>92.495003</td>\n",
       "      <td>24.923265</td>\n",
       "      <td>95.528107</td>\n",
       "      <td>1132.989990</td>\n",
       "      <td>20.040001</td>\n",
       "      <td>174.020004</td>\n",
       "    </tr>\n",
       "    <tr>\n",
       "      <th>2010-01-05</th>\n",
       "      <td>20.652637</td>\n",
       "      <td>134.690002</td>\n",
       "      <td>45.581676</td>\n",
       "      <td>109.699997</td>\n",
       "      <td>157.640747</td>\n",
       "      <td>15.898150</td>\n",
       "      <td>91.584999</td>\n",
       "      <td>24.931318</td>\n",
       "      <td>95.780975</td>\n",
       "      <td>1136.520020</td>\n",
       "      <td>19.350000</td>\n",
       "      <td>176.020004</td>\n",
       "    </tr>\n",
       "    <tr>\n",
       "      <th>2010-01-06</th>\n",
       "      <td>20.324135</td>\n",
       "      <td>132.250000</td>\n",
       "      <td>46.688808</td>\n",
       "      <td>111.510002</td>\n",
       "      <td>155.958191</td>\n",
       "      <td>15.844827</td>\n",
       "      <td>92.356003</td>\n",
       "      <td>24.778313</td>\n",
       "      <td>95.848396</td>\n",
       "      <td>1137.140015</td>\n",
       "      <td>19.160000</td>\n",
       "      <td>180.759995</td>\n",
       "    </tr>\n",
       "  </tbody>\n",
       "</table>\n",
       "</div>"
      ],
      "text/plain": [
       "                 AAPL        AMZN        GDX         GLD          GS  \\\n",
       "Date                                                                   \n",
       "2009-12-31  20.301006  134.520004  43.726997  107.309998  151.107407   \n",
       "2010-01-01        NaN         NaN        NaN         NaN         NaN   \n",
       "2010-01-04  20.616993  133.899994  45.146393  109.800003  154.902115   \n",
       "2010-01-05  20.652637  134.690002  45.581676  109.699997  157.640747   \n",
       "2010-01-06  20.324135  132.250000  46.688808  111.510002  155.958191   \n",
       "\n",
       "                 INTC        JPY       MSFT        SPY         GSPC  \\\n",
       "Date                                                                  \n",
       "2009-12-31  15.540120  92.910004  24.544783  93.934990  1115.099976   \n",
       "2010-01-01        NaN  92.919998        NaN        NaN          NaN   \n",
       "2010-01-04  15.905768  92.495003  24.923265  95.528107  1132.989990   \n",
       "2010-01-05  15.898150  91.584999  24.931318  95.780975  1136.520020   \n",
       "2010-01-06  15.844827  92.356003  24.778313  95.848396  1137.140015   \n",
       "\n",
       "                  VIX         XAU  \n",
       "Date                               \n",
       "2009-12-31  21.680000  168.250000  \n",
       "2010-01-01        NaN         NaN  \n",
       "2010-01-04  20.040001  174.020004  \n",
       "2010-01-05  19.350000  176.020004  \n",
       "2010-01-06  19.160000  180.759995  "
      ]
     },
     "execution_count": 16,
     "metadata": {},
     "output_type": "execute_result"
    }
   ],
   "source": [
    "data.head()"
   ]
  },
  {
   "cell_type": "code",
   "execution_count": 15,
   "metadata": {},
   "outputs": [],
   "source": [
    "data.set_index('Date', inplace=True)\n",
    "data = data.dropna()"
   ]
  },
  {
   "cell_type": "code",
   "execution_count": 20,
   "metadata": {},
   "outputs": [],
   "source": [
    "ret = data.pct_change()\n",
    "ret = ret.dropna()"
   ]
  },
  {
   "cell_type": "markdown",
   "metadata": {},
   "source": [
    "## OLS with statsmodels"
   ]
  },
  {
   "cell_type": "code",
   "execution_count": 33,
   "metadata": {},
   "outputs": [],
   "source": [
    "from statsmodels.formula.api import ols "
   ]
  },
  {
   "cell_type": "code",
   "execution_count": 34,
   "metadata": {},
   "outputs": [
    {
     "name": "stdout",
     "output_type": "stream",
     "text": [
      "                            OLS Regression Results                            \n",
      "==============================================================================\n",
      "Dep. Variable:                   AAPL   R-squared:                       0.308\n",
      "Model:                            OLS   Adj. R-squared:                  0.307\n",
      "Method:                 Least Squares   F-statistic:                     843.3\n",
      "Date:                Sun, 05 Aug 2018   Prob (F-statistic):          1.01e-153\n",
      "Time:                        15:04:56   Log-Likelihood:                 5364.7\n",
      "No. Observations:                1900   AIC:                        -1.073e+04\n",
      "Df Residuals:                    1898   BIC:                        -1.071e+04\n",
      "Df Model:                           1                                         \n",
      "Covariance Type:            nonrobust                                         \n",
      "==============================================================================\n",
      "                 coef    std err          t      P>|t|      [0.025      0.975]\n",
      "------------------------------------------------------------------------------\n",
      "Intercept      0.0009      0.000      2.573      0.010       0.000       0.001\n",
      "GSPC           0.9578      0.033     29.039      0.000       0.893       1.023\n",
      "==============================================================================\n",
      "Omnibus:                      283.357   Durbin-Watson:                   1.932\n",
      "Prob(Omnibus):                  0.000   Jarque-Bera (JB):             4249.651\n",
      "Skew:                           0.002   Prob(JB):                         0.00\n",
      "Kurtosis:                      10.327   Cond. No.                         100.\n",
      "==============================================================================\n",
      "\n",
      "Warnings:\n",
      "[1] Standard Errors assume that the covariance matrix of the errors is correctly specified.\n"
     ]
    }
   ],
   "source": [
    "model_fit = ols('AAPL~1+GSPC', data=ret).fit()\n",
    "print(model_fit.summary())"
   ]
  },
  {
   "cell_type": "markdown",
   "metadata": {},
   "source": [
    "## OLS with sklearn"
   ]
  },
  {
   "cell_type": "code",
   "execution_count": 62,
   "metadata": {},
   "outputs": [],
   "source": [
    "from sklearn.linear_model import LinearRegression"
   ]
  },
  {
   "cell_type": "code",
   "execution_count": 67,
   "metadata": {},
   "outputs": [
    {
     "data": {
      "text/plain": [
       "array([[0.95782871]])"
      ]
     },
     "execution_count": 67,
     "metadata": {},
     "output_type": "execute_result"
    }
   ],
   "source": [
    "clf = LinearRegression()\n",
    "x_train = ret.GSPC[:, None]\n",
    "y_train = ret.AAPL[:, None]\n",
    "clf.fit(x_train, y_train)\n",
    "clf.coef_\n",
    "#clf.score(x_train, y_train)"
   ]
  },
  {
   "cell_type": "markdown",
   "metadata": {},
   "source": [
    "## OLS with scipy"
   ]
  },
  {
   "cell_type": "code",
   "execution_count": 86,
   "metadata": {},
   "outputs": [],
   "source": [
    "from scipy import stats\n",
    "import matplotlib.pyplot as plt"
   ]
  },
  {
   "cell_type": "code",
   "execution_count": 75,
   "metadata": {},
   "outputs": [
    {
     "data": {
      "text/plain": [
       "LinregressResult(slope=0.32116408880852276, intercept=9.767909839486445e-05, rvalue=0.5546351822194233, pvalue=1.0116917799891655e-153, stderr=0.011059707944825936)"
      ]
     },
     "execution_count": 75,
     "metadata": {},
     "output_type": "execute_result"
    }
   ],
   "source": [
    "stats.linregress(ret.AAPL, ret.GSPC)  # pd series: np.ndarray doesn't work"
   ]
  },
  {
   "cell_type": "markdown",
   "metadata": {},
   "source": [
    "## OLS with np"
   ]
  },
  {
   "cell_type": "code",
   "execution_count": 129,
   "metadata": {},
   "outputs": [
    {
     "name": "stdout",
     "output_type": "stream",
     "text": [
      "[9.57828711e-01 8.50138498e-04]\n"
     ]
    }
   ],
   "source": [
    "reg = np.polyfit(ret.GSPC, ret.AAPL, deg=1)\n",
    "print(reg)                                  # very data type sensitive: "
   ]
  },
  {
   "cell_type": "code",
   "execution_count": 39,
   "metadata": {},
   "outputs": [],
   "source": [
    "from sklearn import datasets\n",
    "diabetes = datasets.load_diabetes()\n"
   ]
  }
 ],
 "metadata": {
  "kernelspec": {
   "display_name": "Python 3",
   "language": "python",
   "name": "python3"
  },
  "language_info": {
   "codemirror_mode": {
    "name": "ipython",
    "version": 3
   },
   "file_extension": ".py",
   "mimetype": "text/x-python",
   "name": "python",
   "nbconvert_exporter": "python",
   "pygments_lexer": "ipython3",
   "version": "3.7.6"
  },
  "latex_envs": {
   "LaTeX_envs_menu_present": true,
   "autoclose": false,
   "autocomplete": true,
   "bibliofile": "biblio.bib",
   "cite_by": "apalike",
   "current_citInitial": 1,
   "eqLabelWithNumbers": true,
   "eqNumInitial": 1,
   "hotkeys": {
    "equation": "Ctrl-E",
    "itemize": "Ctrl-I"
   },
   "labels_anchors": false,
   "latex_user_defs": false,
   "report_style_numbering": false,
   "user_envs_cfg": false
  },
  "toc": {
   "base_numbering": 1,
   "nav_menu": {},
   "number_sections": true,
   "sideBar": true,
   "skip_h1_title": false,
   "title_cell": "Table of Contents",
   "title_sidebar": "Contents",
   "toc_cell": false,
   "toc_position": {},
   "toc_section_display": true,
   "toc_window_display": false
  }
 },
 "nbformat": 4,
 "nbformat_minor": 4
}
